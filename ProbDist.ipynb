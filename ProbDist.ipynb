{
 "cells": [
  {
   "cell_type": "markdown",
   "metadata": {},
   "source": [
    "### Probability vs Probability Density"
   ]
  },
  {
   "cell_type": "markdown",
   "metadata": {},
   "source": [
    "* PDF **CAN** be > 1. Hence the need for normalization\n",
    "* In concrete, $\\text{Prob}\\left(X=x_{0}\\right)\\approx\\int_{x_{0}}^{x_{0}+\\epsilon}\\text{pdf}\\left(x_{0}\\right)\\text{d}x=\\text{pdf}\\left(x_{0}\\right)\\cdot\\epsilon$"
   ]
  }
 ],
 "metadata": {
  "celltoolbar": "Raw Cell Format",
  "kernelspec": {
   "display_name": "Python 2",
   "language": "python",
   "name": "python2"
  },
  "language_info": {
   "codemirror_mode": {
    "name": "ipython",
    "version": 2
   },
   "file_extension": ".py",
   "mimetype": "text/x-python",
   "name": "python",
   "nbconvert_exporter": "python",
   "pygments_lexer": "ipython2",
   "version": "2.7.11"
  }
 },
 "nbformat": 4,
 "nbformat_minor": 0
}
