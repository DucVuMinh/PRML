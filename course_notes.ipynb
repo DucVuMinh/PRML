{
 "cells": [
  {
   "cell_type": "markdown",
   "metadata": {},
   "source": [
    "_best view in not-Chrome browsers (Chrome just doesn't like math rendered in Jupyter Notebook)_"
   ]
  },
  {
   "cell_type": "markdown",
   "metadata": {},
   "source": [
    "Training sessions for new members at DSLab. Pre-requisite for subsequent sessions in Topic models and (supervised) Deep neural networks. \n",
    "\n",
    "Intended learning objectives: understand data analysis and modelling pipeline; fundamentals of machine learning: regression and classification, model formalisation by graphical models, (Bayesian) inference/learning, batch/stochastic gradient descent, (non)-linear classification with neural networks, latent variable models, and overview of approximate posterior inference.\n"
   ]
  },
  {
   "cell_type": "markdown",
   "metadata": {},
   "source": [
    "#  Fundamentals of Data Analytics/Statistics/ML"
   ]
  },
  {
   "cell_type": "markdown",
   "metadata": {},
   "source": [
    "## DA pipeline\n",
    "\n",
    "Question A $\\rightarrow$ Experimental design $\\rightarrow$ Data\n",
    "acquistion $\\rightarrow$ Data pre-process/ETL $\\rightarrow$ Modelling\n",
    "$\\rightarrow$ Assessment/Evaluation/Validation $\\rightarrow$ Interpretation $\\rightarrow$ (possible) Question A'\n"
   ]
  },
  {
   "cell_type": "markdown",
   "metadata": {},
   "source": [
    "## Modelling pipeline\n",
    "Motivation examples: http://www.r2d3.us/visual-intro-to-machine-learning-part-1/\n",
    "\n",
    "\n",
    "Pipeline: illustrate with (parametric) modelling for single-label multi-class (SLMC) classification problem\n",
    "![](figs/model_pipeline1.png)\n",
    "![](figs/model_pipeline0.png)"
   ]
  },
  {
   "cell_type": "markdown",
   "metadata": {},
   "source": [
    "Notes on math notations:\n",
    "- Math is an efficient and universally understood language. Don't be afraid, embrace it. \n",
    "- Don't forget to explain the math in natural language though."
   ]
  },
  {
   "cell_type": "markdown",
   "metadata": {},
   "source": [
    "## Recap: sampling, inference, hypothesis testing\n",
    "\n",
    "(Turn out teaching/studying statistics _properly_ at university level has not been  appreciated enough: _too much \"HOW\", so little on \"WHY\"_)"
   ]
  },
  {
   "cell_type": "markdown",
   "metadata": {},
   "source": [
    "## (Extra) From statistical hypothesis testing to regression"
   ]
  },
  {
   "cell_type": "markdown",
   "metadata": {},
   "source": [
    "## GLOSSARY \n",
    "\n",
    "_of Synonyms or Strongly related terms_\n",
    "\n",
    "NOTE: All terms are in singular form (of the words). Any _plural word_ indicate the elements/members of the term in concern.\n",
    "\n",
    "Term | Common annotation(s)\n",
    "--- | --- | ---\n",
    "estimation, prediction, inference | quantity of concern with the \"hat\", e.g. $\\hat{y}$, $\\hat{\\theta}$, $\\text{Pr}\\left(y\\left|x,\\hat{\\theta}\\right.\\right)$\n",
    "loss function, cost function, objective function | $J\\left(\\cdot\\right)$ , $L\\left(\\cdot\\right)$\n",
    "learning model, training model, parameter estimation, backward pass |\n",
    "evaluating model, forward pass | \n",
    "score function, (inverse) link function | $f\\left(\\cdot\\right)$ , $s\\left(\\cdot\\right)$ , $g\\left(\\cdot\\right)$ if link function\n",
    "neuron, unit | \n",
    "independent variable, explanatory variable | $x$ , or $X$ in statistical literature \n",
    "dependent variable, response variable, target | $y$ , or $Y$ in statistical literature\n",
    "hidden variable, latent variable, _hidden unit**s**_ | $z$\n",
    "observed variable(s), observed data | $x$, and $y$ if supervised learning\n",
    "\n",
    "\n",
    "\n"
   ]
  },
  {
   "cell_type": "markdown",
   "metadata": {},
   "source": [
    "# ML/DL Intro\n",
    "\n",
    "[cs231n](); [Coursera (Andrew Ng)](); [PMRL (Bishop, 2006)]()"
   ]
  },
  {
   "cell_type": "markdown",
   "metadata": {},
   "source": [
    "## Prediction in the form of Regression or Classification\n",
    "(Return to modelling pipeline figure above)"
   ]
  },
  {
   "cell_type": "markdown",
   "metadata": {},
   "source": [
    "## Linear classification"
   ]
  },
  {
   "cell_type": "markdown",
   "metadata": {},
   "source": [
    "- visualise statistical relationship between variables by graphical models\n",
    "- other contents extracted from https://github.com/hoamle/multiLabel/blob/master/tutorial_log.ipynb"
   ]
  },
  {
   "cell_type": "markdown",
   "metadata": {},
   "source": [
    "### Score functions i.e. inverse Link functions"
   ]
  },
  {
   "cell_type": "markdown",
   "metadata": {},
   "source": [
    "Aspiring Deep Learning (DL) self-learners often ask \"when should I use Sigmoid (as in the score function)\" or \"where to use Hinge loss\". The answer actually comes from one of the most fundamental material in statistcal modelling: ** Generalised Linear Models **(GLM).\n",
    "\n",
    "- Pre-requisites\n",
    "- GLM Recipes\n",
    "- Case-study: binary & categorical classification"
   ]
  },
  {
   "cell_type": "markdown",
   "metadata": {},
   "source": [
    "## (Extra) Behind a successful Algorithm is a bedazzle Model\n",
    "or \"Behind a jaw-dropping implementation is the bewilder theory\"\n",
    "\n",
    "*(This post is about machine learning algorithms/probabilistic models)*\n",
    "\n",
    "Algorithms | generalised Algos / underlying Models\n",
    "--- | --- \n",
    "line fitting by least-squares | Linear regression (on Gaussian variables)\n",
    "k-mean clustering | Expectation-Maximisation, Gaussian mixture models\n",
    "recommendation by matrix factorisation | Probabilistic matrix factorisation\n",
    "\n",
    "\n"
   ]
  },
  {
   "cell_type": "markdown",
   "metadata": {},
   "source": [
    "## Learning model parameters: frequentist and Bayesian inference\n",
    "\n",
    "Walk-through standard problem of predicting the outcomes of a coin-toss (or a dice-roll) https://github.com/hoamle/PRML/blob/master/Keynotes.ipynb\n",
    "- maximum likelihood estimation\n",
    "- posterior inference\n",
    "- conjugacy"
   ]
  },
  {
   "cell_type": "markdown",
   "metadata": {},
   "source": [
    "###  Exact and approximate inference\n",
    "- Normal equation $\\hat{\\theta}=\\left(X^{T}X\\right)^{-1}X^{T}y$ and Gradient descent\n",
    "- Conjugacy (recall)\n",
    "- Expectation - Maximisation\n",
    "- Variational inference\n",
    "- (Extra) Hessian-matrix, 2nd-order methods"
   ]
  },
  {
   "cell_type": "markdown",
   "metadata": {},
   "source": [
    "### (Extra) Goodness-of-fit tests, f-divergence, and approximate by VI\n",
    "Motivation: evaluate degree of similarity between 2 distributions.\n",
    "- distance measure: f-divergence (e.g. KL, $\\chi_{n}$)\n",
    "- See why Goodness-of-fit test statistics follow $\\chi_{2}$-distribution \n",
    "- VI by maximising ELBO (KL)\n",
    "- VI by minimising CUBO ($\\chi_{2}$)"
   ]
  },
  {
   "cell_type": "markdown",
   "metadata": {},
   "source": [
    "## The Stochastic and the Deterministic nodes\n",
    "Current approach to marry PGM (Bayesian models) and DL (supervised DNN)\n",
    "- Pre-requisites: knew to formalise model by graphical models\n",
    "- Link to VAE/Amortised inference \n",
    "\n",
    "(Extra)\n",
    "- Link to (deep) generative model \n",
    "- Case-studies in generative image modelling"
   ]
  },
  {
   "cell_type": "markdown",
   "metadata": {},
   "source": [
    "### (Extra) Amortised inference: marry PGM and DL\n",
    "[Kingma; Redenze (2014)]()\n",
    "\n",
    "Vanilla VI: find (variational density's) stationary points analytically\n",
    "\n",
    "\"Amortised inference\": find stationary points approximately by GD\n",
    "- need an unbiased, low variant estimate of gradients: SGVI \n",
    "- properties: jointly estimate model and variational parameters with SGVI (hence armotised)\n",
    "\n",
    "Other approaches:\n",
    "- find stationary points approximately by variants of FW? (Likely not armotised though)"
   ]
  },
  {
   "cell_type": "markdown",
   "metadata": {},
   "source": [
    "# FAQ"
   ]
  },
  {
   "cell_type": "markdown",
   "metadata": {},
   "source": [
    "### Q: Can we use arbitrary activation function as score function?\n",
    "A: No. A score function needs to \"match\" the distribution of response variable $y$. See [Link functions]()\n",
    "\n",
    "### Q: \"We are from yet-another-AI tech-firm/start-up and looking for collaboration. Can you do this put-in-the-blank problem(s)?\"\n",
    "A: First thing first, let be no __miscommunication__. Academics and Industry generally speak on different language, even though they are referring to a common problem. The tech-firms/start-ups in question should understand that Academics tend to use the terms for the *slightly-generalised* version of your problem(s) at discussion. Nevertheless, they are still talking about your problem(s), discussing the edges and caveats, but might be seen as \"too theoretical\" from the Industry perspective at some point. Also, let be clear about __how__ you want to collaborate. _Likewise_, academics should refrain from being overly abstract, and/or over-abuse technical terminology."
   ]
  }
 ],
 "metadata": {
  "kernelspec": {
   "display_name": "Python 2",
   "language": "python",
   "name": "python2"
  },
  "language_info": {
   "codemirror_mode": {
    "name": "ipython",
    "version": 2
   },
   "file_extension": ".py",
   "mimetype": "text/x-python",
   "name": "python",
   "nbconvert_exporter": "python",
   "pygments_lexer": "ipython2",
   "version": "2.7.11"
  }
 },
 "nbformat": 4,
 "nbformat_minor": 0
}
